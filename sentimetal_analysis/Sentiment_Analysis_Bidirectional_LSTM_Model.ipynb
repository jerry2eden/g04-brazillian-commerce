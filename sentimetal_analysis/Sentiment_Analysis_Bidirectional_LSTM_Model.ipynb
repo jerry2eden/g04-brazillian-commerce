{
  "nbformat": 4,
  "nbformat_minor": 0,
  "metadata": {
    "accelerator": "GPU",
    "colab": {
      "name": "Sentiment Analysis Bidirectional LSTM Model",
      "provenance": []
    },
    "kernelspec": {
      "display_name": "Python 3",
      "name": "python3"
    }
  },
  "cells": [
    {
      "cell_type": "code",
      "metadata": {
        "colab": {
          "base_uri": "https://localhost:8080/"
        },
        "id": "s6ZUKNqyoTyg",
        "outputId": "638472d1-886d-401b-bfe8-eee12d63cc9d"
      },
      "source": [
        "from google.colab import drive\n",
        "drive.mount('/content/drive')"
      ],
      "execution_count": 1,
      "outputs": [
        {
          "output_type": "stream",
          "text": [
            "Mounted at /content/drive\n"
          ],
          "name": "stdout"
        }
      ]
    },
    {
      "cell_type": "code",
      "metadata": {
        "id": "eZlOorwhmI6l"
      },
      "source": [
        "# Importing useful libraries\n",
        "import pandas as pd\n",
        "import numpy as np\n",
        "import re\n",
        "import matplotlib.pyplot as plt\n",
        "import string\n",
        "from nltk.corpus import stopwords\n",
        "import nltk\n",
        "from nltk.corpus import wordnet\n",
        "from nltk.stem import WordNetLemmatizer\n",
        "from nltk.tokenize.treebank import TreebankWordDetokenizer\n",
        "from collections import Counter\n",
        "from wordcloud import WordCloud\n",
        "from nltk.corpus import stopwords\n",
        "import nltk\n",
        "from gensim.utils import simple_preprocess\n",
        "from nltk.corpus import stopwords\n",
        "import gensim\n",
        "from sklearn.model_selection import train_test_split\n",
        "import spacy\n",
        "import pickle\n",
        "import warnings\n",
        "warnings.filterwarnings('ignore')\n",
        "import seaborn as sns\n",
        "from sklearn.metrics import confusion_matrix\n",
        "import matplotlib.pyplot as plt \n",
        "import tensorflow as tf\n",
        "import keras"
      ],
      "execution_count": 2,
      "outputs": []
    },
    {
      "cell_type": "code",
      "metadata": {
        "colab": {
          "base_uri": "https://localhost:8080/",
          "height": 258
        },
        "id": "7xcMaGCQoC61",
        "outputId": "e88c8d20-c81d-4a46-911d-596ad2749e21"
      },
      "source": [
        "# Reading in the data\n",
        "review_df = pd.read_csv('/content/drive/MyDrive/olist_order_reviews_dataset.csv')\n",
        "review_df.head()"
      ],
      "execution_count": 3,
      "outputs": [
        {
          "output_type": "execute_result",
          "data": {
            "text/html": [
              "<div>\n",
              "<style scoped>\n",
              "    .dataframe tbody tr th:only-of-type {\n",
              "        vertical-align: middle;\n",
              "    }\n",
              "\n",
              "    .dataframe tbody tr th {\n",
              "        vertical-align: top;\n",
              "    }\n",
              "\n",
              "    .dataframe thead th {\n",
              "        text-align: right;\n",
              "    }\n",
              "</style>\n",
              "<table border=\"1\" class=\"dataframe\">\n",
              "  <thead>\n",
              "    <tr style=\"text-align: right;\">\n",
              "      <th></th>\n",
              "      <th>review_id</th>\n",
              "      <th>order_id</th>\n",
              "      <th>review_score</th>\n",
              "      <th>review_comment_title</th>\n",
              "      <th>review_comment_message</th>\n",
              "      <th>review_creation_date</th>\n",
              "      <th>review_answer_timestamp</th>\n",
              "    </tr>\n",
              "  </thead>\n",
              "  <tbody>\n",
              "    <tr>\n",
              "      <th>0</th>\n",
              "      <td>7bc2406110b926393aa56f80a40eba40</td>\n",
              "      <td>73fc7af87114b39712e6da79b0a377eb</td>\n",
              "      <td>4</td>\n",
              "      <td>NaN</td>\n",
              "      <td>NaN</td>\n",
              "      <td>2018-01-18 00:00:00</td>\n",
              "      <td>2018-01-18 21:46:59</td>\n",
              "    </tr>\n",
              "    <tr>\n",
              "      <th>1</th>\n",
              "      <td>80e641a11e56f04c1ad469d5645fdfde</td>\n",
              "      <td>a548910a1c6147796b98fdf73dbeba33</td>\n",
              "      <td>5</td>\n",
              "      <td>NaN</td>\n",
              "      <td>NaN</td>\n",
              "      <td>2018-03-10 00:00:00</td>\n",
              "      <td>2018-03-11 03:05:13</td>\n",
              "    </tr>\n",
              "    <tr>\n",
              "      <th>2</th>\n",
              "      <td>228ce5500dc1d8e020d8d1322874b6f0</td>\n",
              "      <td>f9e4b658b201a9f2ecdecbb34bed034b</td>\n",
              "      <td>5</td>\n",
              "      <td>NaN</td>\n",
              "      <td>NaN</td>\n",
              "      <td>2018-02-17 00:00:00</td>\n",
              "      <td>2018-02-18 14:36:24</td>\n",
              "    </tr>\n",
              "    <tr>\n",
              "      <th>3</th>\n",
              "      <td>e64fb393e7b32834bb789ff8bb30750e</td>\n",
              "      <td>658677c97b385a9be170737859d3511b</td>\n",
              "      <td>5</td>\n",
              "      <td>NaN</td>\n",
              "      <td>Recebi bem antes do prazo estipulado.</td>\n",
              "      <td>2017-04-21 00:00:00</td>\n",
              "      <td>2017-04-21 22:02:06</td>\n",
              "    </tr>\n",
              "    <tr>\n",
              "      <th>4</th>\n",
              "      <td>f7c4243c7fe1938f181bec41a392bdeb</td>\n",
              "      <td>8e6bfb81e283fa7e4f11123a3fb894f1</td>\n",
              "      <td>5</td>\n",
              "      <td>NaN</td>\n",
              "      <td>Parabéns lojas lannister adorei comprar pela I...</td>\n",
              "      <td>2018-03-01 00:00:00</td>\n",
              "      <td>2018-03-02 10:26:53</td>\n",
              "    </tr>\n",
              "  </tbody>\n",
              "</table>\n",
              "</div>"
            ],
            "text/plain": [
              "                          review_id  ... review_answer_timestamp\n",
              "0  7bc2406110b926393aa56f80a40eba40  ...     2018-01-18 21:46:59\n",
              "1  80e641a11e56f04c1ad469d5645fdfde  ...     2018-03-11 03:05:13\n",
              "2  228ce5500dc1d8e020d8d1322874b6f0  ...     2018-02-18 14:36:24\n",
              "3  e64fb393e7b32834bb789ff8bb30750e  ...     2017-04-21 22:02:06\n",
              "4  f7c4243c7fe1938f181bec41a392bdeb  ...     2018-03-02 10:26:53\n",
              "\n",
              "[5 rows x 7 columns]"
            ]
          },
          "metadata": {
            "tags": []
          },
          "execution_count": 3
        }
      ]
    },
    {
      "cell_type": "code",
      "metadata": {
        "colab": {
          "base_uri": "https://localhost:8080/"
        },
        "id": "uhLMkSFzoLg8",
        "outputId": "65f4d4c0-01e9-42b9-a4b3-098a14bcaccb"
      },
      "source": [
        "# Preprocessing the reviews dataset\n",
        "review_data_title = review_df['review_comment_title']\n",
        "review_data = review_df.drop(['review_comment_title'],axis=1)\n",
        "\n",
        "# Dropping NaN values\n",
        "review_data  = review_data.dropna()\n",
        "review_data_title = review_data_title.dropna()\n",
        "\n",
        "# Resetting the reviews index and visualizing the data\n",
        "review_data = review_data.reset_index(drop=True)\n",
        "review_data_title = review_data_title.reset_index(drop=True)\n",
        "review_data.shape\n"
      ],
      "execution_count": 4,
      "outputs": [
        {
          "output_type": "execute_result",
          "data": {
            "text/plain": [
              "(41753, 6)"
            ]
          },
          "metadata": {
            "tags": []
          },
          "execution_count": 4
        }
      ]
    },
    {
      "cell_type": "markdown",
      "metadata": {
        "id": "QwFmhJ-6pKaw"
      },
      "source": [
        "\n",
        "This would be a supervised learning case so we would have to create a new column representing sentiment score (1 or 0). 1 is for positive words and 0, for negative words. We would exclude the 3-point review score as that represents neutral and include '1 and 2' review scores as negative words and '4 and 5' review scores for positive words."
      ]
    },
    {
      "cell_type": "code",
      "metadata": {
        "colab": {
          "base_uri": "https://localhost:8080/"
        },
        "id": "_McfU1oVnfAM",
        "outputId": "ecc209f1-7b7f-49d8-fd5a-5cb83a954e3a"
      },
      "source": [
        "# Mapping the ratings\n",
        "review_data['Sentiment_rating'] = np.where(review_data.review_score > 3,1,0)\n",
        "\n",
        "# Removing neutral reviews \n",
        "review_data = review_data[review_data.review_score != 3]\n",
        "\n",
        "# Printing the counts of each class\n",
        "review_data['Sentiment_rating'].value_counts()"
      ],
      "execution_count": 5,
      "outputs": [
        {
          "output_type": "execute_result",
          "data": {
            "text/plain": [
              "1    26680\n",
              "0    11408\n",
              "Name: Sentiment_rating, dtype: int64"
            ]
          },
          "metadata": {
            "tags": []
          },
          "execution_count": 5
        }
      ]
    },
    {
      "cell_type": "code",
      "metadata": {
        "colab": {
          "base_uri": "https://localhost:8080/"
        },
        "id": "UNfU6bk-oUGN",
        "outputId": "67865782-7559-4b25-a9ef-2fb17d15c0f7"
      },
      "source": [
        "review_data.shape"
      ],
      "execution_count": 6,
      "outputs": [
        {
          "output_type": "execute_result",
          "data": {
            "text/plain": [
              "(38088, 7)"
            ]
          },
          "metadata": {
            "tags": []
          },
          "execution_count": 6
        }
      ]
    },
    {
      "cell_type": "code",
      "metadata": {
        "colab": {
          "base_uri": "https://localhost:8080/"
        },
        "id": "zFaxlrT3nqo2",
        "outputId": "e4ef46d1-fd14-4e8e-8d46-671de7cc98d2"
      },
      "source": [
        "review_data['Sentiment_rating'].unique()"
      ],
      "execution_count": 7,
      "outputs": [
        {
          "output_type": "execute_result",
          "data": {
            "text/plain": [
              "array([1, 0])"
            ]
          },
          "metadata": {
            "tags": []
          },
          "execution_count": 7
        }
      ]
    },
    {
      "cell_type": "code",
      "metadata": {
        "colab": {
          "base_uri": "https://localhost:8080/",
          "height": 162
        },
        "id": "ubI2ZkQioyoa",
        "outputId": "3609c030-2e75-4abd-9390-1e5870971cd3"
      },
      "source": [
        "review_data.groupby('Sentiment_rating').nunique()"
      ],
      "execution_count": 8,
      "outputs": [
        {
          "output_type": "execute_result",
          "data": {
            "text/html": [
              "<div>\n",
              "<style scoped>\n",
              "    .dataframe tbody tr th:only-of-type {\n",
              "        vertical-align: middle;\n",
              "    }\n",
              "\n",
              "    .dataframe tbody tr th {\n",
              "        vertical-align: top;\n",
              "    }\n",
              "\n",
              "    .dataframe thead th {\n",
              "        text-align: right;\n",
              "    }\n",
              "</style>\n",
              "<table border=\"1\" class=\"dataframe\">\n",
              "  <thead>\n",
              "    <tr style=\"text-align: right;\">\n",
              "      <th></th>\n",
              "      <th>review_id</th>\n",
              "      <th>order_id</th>\n",
              "      <th>review_score</th>\n",
              "      <th>review_comment_message</th>\n",
              "      <th>review_creation_date</th>\n",
              "      <th>review_answer_timestamp</th>\n",
              "    </tr>\n",
              "    <tr>\n",
              "      <th>Sentiment_rating</th>\n",
              "      <th></th>\n",
              "      <th></th>\n",
              "      <th></th>\n",
              "      <th></th>\n",
              "      <th></th>\n",
              "      <th></th>\n",
              "    </tr>\n",
              "  </thead>\n",
              "  <tbody>\n",
              "    <tr>\n",
              "      <th>0</th>\n",
              "      <td>11271</td>\n",
              "      <td>11386</td>\n",
              "      <td>2</td>\n",
              "      <td>10999</td>\n",
              "      <td>571</td>\n",
              "      <td>11269</td>\n",
              "    </tr>\n",
              "    <tr>\n",
              "      <th>1</th>\n",
              "      <td>26525</td>\n",
              "      <td>26603</td>\n",
              "      <td>2</td>\n",
              "      <td>22669</td>\n",
              "      <td>601</td>\n",
              "      <td>26515</td>\n",
              "    </tr>\n",
              "  </tbody>\n",
              "</table>\n",
              "</div>"
            ],
            "text/plain": [
              "                  review_id  ...  review_answer_timestamp\n",
              "Sentiment_rating             ...                         \n",
              "0                     11271  ...                    11269\n",
              "1                     26525  ...                    26515\n",
              "\n",
              "[2 rows x 6 columns]"
            ]
          },
          "metadata": {
            "tags": []
          },
          "execution_count": 8
        }
      ]
    },
    {
      "cell_type": "code",
      "metadata": {
        "colab": {
          "base_uri": "https://localhost:8080/"
        },
        "id": "scCo2dsxo9Z6",
        "outputId": "5dd74c13-5888-4de7-9bc4-7ddf647b76f4"
      },
      "source": [
        "# Getting rid of stopwords, tokenizing and making the text lowercase\n",
        "nltk.download('stopwords')\n",
        "nltk.download('punkt')\n",
        "comments = []\n",
        "stop_words = set(stopwords.words('portuguese'))\n",
        "\n",
        "\n",
        "for words in review_data['review_comment_message']:\n",
        "    only_letters = re.sub(\"[^a-zA-Z]\", \" \",words)\n",
        "    tokens = nltk.word_tokenize(only_letters) #tokenize the sentences\n",
        "    lower_case = [l.lower() for l in tokens] #convert all letters to lower case\n",
        "    filtered_result = list(filter(lambda l: l not in stop_words, lower_case)) #Remove stopwords from the comments\n",
        "    comments.append(' '.join(filtered_result))"
      ],
      "execution_count": 9,
      "outputs": [
        {
          "output_type": "stream",
          "text": [
            "[nltk_data] Downloading package stopwords to /root/nltk_data...\n",
            "[nltk_data]   Unzipping corpora/stopwords.zip.\n",
            "[nltk_data] Downloading package punkt to /root/nltk_data...\n",
            "[nltk_data]   Unzipping tokenizers/punkt.zip.\n"
          ],
          "name": "stdout"
        }
      ]
    },
    {
      "cell_type": "code",
      "metadata": {
        "id": "Az8fIZD6pRkC"
      },
      "source": [
        "#comments"
      ],
      "execution_count": null,
      "outputs": []
    },
    {
      "cell_type": "code",
      "metadata": {
        "id": "u7B_5iaLqxz3"
      },
      "source": [
        "# making the text an array\n",
        "data = np.array(comments)"
      ],
      "execution_count": 10,
      "outputs": []
    },
    {
      "cell_type": "code",
      "metadata": {
        "id": "QX6ftRsDp8sE"
      },
      "source": [
        "#data"
      ],
      "execution_count": null,
      "outputs": []
    },
    {
      "cell_type": "code",
      "metadata": {
        "id": "9t-jiqcTq-kI"
      },
      "source": [
        "labels = np.array(review_data['Sentiment_rating'])\n",
        "y = []\n",
        "for i in range(len(labels)):\n",
        "    if labels[i] == 0:\n",
        "        y.append(0)\n",
        "    if labels[i] == 1:\n",
        "        y.append(1)\n",
        "y = np.array(y)\n",
        "labels = tf.keras.utils.to_categorical(y, 3, dtype=\"float32\")\n",
        "del y"
      ],
      "execution_count": 11,
      "outputs": []
    },
    {
      "cell_type": "code",
      "metadata": {
        "colab": {
          "base_uri": "https://localhost:8080/"
        },
        "id": "4GodX4RSrLhy",
        "outputId": "f809367c-32f5-4ced-89e2-66ac2c3af9a6"
      },
      "source": [
        "from keras.models import Sequential\n",
        "from keras import layers\n",
        "from keras.optimizers import RMSprop,Adam\n",
        "from keras.preprocessing.text import Tokenizer\n",
        "from keras.preprocessing.sequence import pad_sequences\n",
        "from keras import regularizers\n",
        "from keras import backend as K\n",
        "from keras.callbacks import ModelCheckpoint\n",
        "from tensorflow.keras.callbacks import EarlyStopping\n",
        "max_words = 5000\n",
        "max_len = 200\n",
        "\n",
        "# Encoding and padding the texts\n",
        "tokenizer = Tokenizer(num_words=max_words)\n",
        "tokenizer.fit_on_texts(data)\n",
        "sequences = tokenizer.texts_to_sequences(data)\n",
        "encoded_data = pad_sequences(sequences, maxlen=max_len)\n",
        "print(encoded_data)"
      ],
      "execution_count": 16,
      "outputs": [
        {
          "output_type": "stream",
          "text": [
            "[[   0    0    0 ...    5    3  166]\n",
            " [   0    0    0 ...  312   67 4868]\n",
            " [   0    0    0 ...  388  113  387]\n",
            " ...\n",
            " [   0    0    0 ...   25    9   17]\n",
            " [   0    0    0 ...  546  482  119]\n",
            " [   0    0    0 ...    2 3002 1816]]\n"
          ],
          "name": "stdout"
        }
      ]
    },
    {
      "cell_type": "code",
      "metadata": {
        "colab": {
          "base_uri": "https://localhost:8080/"
        },
        "id": "Y3qChDo9rX23",
        "outputId": "8ec7dc4b-5f22-4a5e-a4d6-b5ceffb0d343"
      },
      "source": [
        "labels.shape"
      ],
      "execution_count": 17,
      "outputs": [
        {
          "output_type": "execute_result",
          "data": {
            "text/plain": [
              "(38088, 3)"
            ]
          },
          "metadata": {
            "tags": []
          },
          "execution_count": 17
        }
      ]
    },
    {
      "cell_type": "code",
      "metadata": {
        "colab": {
          "base_uri": "https://localhost:8080/"
        },
        "id": "JL0q22_jrZIa",
        "outputId": "e9c89fca-caac-4c9c-a003-8461545eda8f"
      },
      "source": [
        "#Splitting the data\n",
        "X_train, X_test, y_train, y_test = train_test_split(encoded_data,labels, random_state=0)\n",
        "print (len(X_train),len(X_test),len(y_train),len(y_test))"
      ],
      "execution_count": 18,
      "outputs": [
        {
          "output_type": "stream",
          "text": [
            "28566 9522 28566 9522\n"
          ],
          "name": "stdout"
        }
      ]
    },
    {
      "cell_type": "code",
      "metadata": {
        "colab": {
          "base_uri": "https://localhost:8080/"
        },
        "id": "927uoNKbKB3L",
        "outputId": "ca1ad224-c44c-459e-aa19-73157d5a3db5"
      },
      "source": [
        "# Building and training a bidirectional LSTM model\n",
        "model = Sequential()\n",
        "model.add(layers.Embedding(max_words, 40, input_length=max_len))\n",
        "model.add(layers.Bidirectional(layers.LSTM(20,dropout=0.6)))\n",
        "model.add(layers.Dense(3,activation='softmax'))\n",
        "model.compile(optimizer='rmsprop',loss='categorical_crossentropy', metrics=['accuracy'])\n",
        "checkpoint = ModelCheckpoint(\"best_model.hdf5\", monitor='val_accuracy', verbose=1,save_best_only=True, mode='auto', period=1,save_weights_only=False)\n",
        "history = model.fit(X_train,y_train, epochs=25,validation_data=(X_test, y_test),callbacks=[checkpoint])"
      ],
      "execution_count": 19,
      "outputs": [
        {
          "output_type": "stream",
          "text": [
            "WARNING:tensorflow:`period` argument is deprecated. Please use `save_freq` to specify the frequency in number of batches seen.\n",
            "Epoch 1/25\n",
            "891/893 [============================>.] - ETA: 0s - loss: 0.2980 - accuracy: 0.8764\n",
            "Epoch 00001: val_accuracy improved from -inf to 0.91955, saving model to best_model.hdf5\n",
            "893/893 [==============================] - 19s 21ms/step - loss: 0.2978 - accuracy: 0.8765 - val_loss: 0.2081 - val_accuracy: 0.9196\n",
            "Epoch 2/25\n",
            "891/893 [============================>.] - ETA: 0s - loss: 0.2075 - accuracy: 0.9210\n",
            "Epoch 00002: val_accuracy improved from 0.91955 to 0.92775, saving model to best_model.hdf5\n",
            "893/893 [==============================] - 18s 20ms/step - loss: 0.2079 - accuracy: 0.9209 - val_loss: 0.1944 - val_accuracy: 0.9277\n",
            "Epoch 3/25\n",
            "893/893 [==============================] - ETA: 0s - loss: 0.1949 - accuracy: 0.9262\n",
            "Epoch 00003: val_accuracy did not improve from 0.92775\n",
            "893/893 [==============================] - 18s 20ms/step - loss: 0.1949 - accuracy: 0.9262 - val_loss: 0.1922 - val_accuracy: 0.9277\n",
            "Epoch 4/25\n",
            "892/893 [============================>.] - ETA: 0s - loss: 0.1881 - accuracy: 0.9308\n",
            "Epoch 00004: val_accuracy improved from 0.92775 to 0.93058, saving model to best_model.hdf5\n",
            "893/893 [==============================] - 18s 20ms/step - loss: 0.1880 - accuracy: 0.9309 - val_loss: 0.1881 - val_accuracy: 0.9306\n",
            "Epoch 5/25\n",
            "892/893 [============================>.] - ETA: 0s - loss: 0.1823 - accuracy: 0.9319\n",
            "Epoch 00005: val_accuracy improved from 0.93058 to 0.93069, saving model to best_model.hdf5\n",
            "893/893 [==============================] - 18s 20ms/step - loss: 0.1823 - accuracy: 0.9319 - val_loss: 0.1893 - val_accuracy: 0.9307\n",
            "Epoch 6/25\n",
            "892/893 [============================>.] - ETA: 0s - loss: 0.1775 - accuracy: 0.9349\n",
            "Epoch 00006: val_accuracy improved from 0.93069 to 0.93184, saving model to best_model.hdf5\n",
            "893/893 [==============================] - 18s 20ms/step - loss: 0.1776 - accuracy: 0.9350 - val_loss: 0.1884 - val_accuracy: 0.9318\n",
            "Epoch 7/25\n",
            "890/893 [============================>.] - ETA: 0s - loss: 0.1741 - accuracy: 0.9358\n",
            "Epoch 00007: val_accuracy improved from 0.93184 to 0.93342, saving model to best_model.hdf5\n",
            "893/893 [==============================] - 17s 20ms/step - loss: 0.1741 - accuracy: 0.9358 - val_loss: 0.1847 - val_accuracy: 0.9334\n",
            "Epoch 8/25\n",
            "893/893 [==============================] - ETA: 0s - loss: 0.1717 - accuracy: 0.9374\n",
            "Epoch 00008: val_accuracy improved from 0.93342 to 0.93373, saving model to best_model.hdf5\n",
            "893/893 [==============================] - 17s 20ms/step - loss: 0.1717 - accuracy: 0.9374 - val_loss: 0.1851 - val_accuracy: 0.9337\n",
            "Epoch 9/25\n",
            "892/893 [============================>.] - ETA: 0s - loss: 0.1676 - accuracy: 0.9386\n",
            "Epoch 00009: val_accuracy improved from 0.93373 to 0.93394, saving model to best_model.hdf5\n",
            "893/893 [==============================] - 17s 20ms/step - loss: 0.1675 - accuracy: 0.9386 - val_loss: 0.1880 - val_accuracy: 0.9339\n",
            "Epoch 10/25\n",
            "891/893 [============================>.] - ETA: 0s - loss: 0.1630 - accuracy: 0.9411\n",
            "Epoch 00010: val_accuracy improved from 0.93394 to 0.93405, saving model to best_model.hdf5\n",
            "893/893 [==============================] - 18s 20ms/step - loss: 0.1629 - accuracy: 0.9412 - val_loss: 0.1850 - val_accuracy: 0.9340\n",
            "Epoch 11/25\n",
            "893/893 [==============================] - ETA: 0s - loss: 0.1622 - accuracy: 0.9421\n",
            "Epoch 00011: val_accuracy did not improve from 0.93405\n",
            "893/893 [==============================] - 17s 19ms/step - loss: 0.1622 - accuracy: 0.9421 - val_loss: 0.1882 - val_accuracy: 0.9338\n",
            "Epoch 12/25\n",
            "891/893 [============================>.] - ETA: 0s - loss: 0.1591 - accuracy: 0.9429\n",
            "Epoch 00012: val_accuracy did not improve from 0.93405\n",
            "893/893 [==============================] - 17s 19ms/step - loss: 0.1592 - accuracy: 0.9429 - val_loss: 0.1860 - val_accuracy: 0.9327\n",
            "Epoch 13/25\n",
            "892/893 [============================>.] - ETA: 0s - loss: 0.1584 - accuracy: 0.9434\n",
            "Epoch 00013: val_accuracy did not improve from 0.93405\n",
            "893/893 [==============================] - 17s 19ms/step - loss: 0.1584 - accuracy: 0.9434 - val_loss: 0.1885 - val_accuracy: 0.9334\n",
            "Epoch 14/25\n",
            "893/893 [==============================] - ETA: 0s - loss: 0.1549 - accuracy: 0.9456\n",
            "Epoch 00014: val_accuracy did not improve from 0.93405\n",
            "893/893 [==============================] - 17s 19ms/step - loss: 0.1549 - accuracy: 0.9456 - val_loss: 0.1883 - val_accuracy: 0.9338\n",
            "Epoch 15/25\n",
            "890/893 [============================>.] - ETA: 0s - loss: 0.1550 - accuracy: 0.9455\n",
            "Epoch 00015: val_accuracy did not improve from 0.93405\n",
            "893/893 [==============================] - 17s 19ms/step - loss: 0.1552 - accuracy: 0.9454 - val_loss: 0.1881 - val_accuracy: 0.9335\n",
            "Epoch 16/25\n",
            "893/893 [==============================] - ETA: 0s - loss: 0.1534 - accuracy: 0.9457\n",
            "Epoch 00016: val_accuracy did not improve from 0.93405\n",
            "893/893 [==============================] - 17s 19ms/step - loss: 0.1534 - accuracy: 0.9457 - val_loss: 0.1906 - val_accuracy: 0.9317\n",
            "Epoch 17/25\n",
            "892/893 [============================>.] - ETA: 0s - loss: 0.1512 - accuracy: 0.9473\n",
            "Epoch 00017: val_accuracy did not improve from 0.93405\n",
            "893/893 [==============================] - 17s 19ms/step - loss: 0.1512 - accuracy: 0.9473 - val_loss: 0.1913 - val_accuracy: 0.9310\n",
            "Epoch 18/25\n",
            "892/893 [============================>.] - ETA: 0s - loss: 0.1515 - accuracy: 0.9468\n",
            "Epoch 00018: val_accuracy did not improve from 0.93405\n",
            "893/893 [==============================] - 17s 19ms/step - loss: 0.1515 - accuracy: 0.9467 - val_loss: 0.1924 - val_accuracy: 0.9324\n",
            "Epoch 19/25\n",
            "893/893 [==============================] - ETA: 0s - loss: 0.1514 - accuracy: 0.9468\n",
            "Epoch 00019: val_accuracy did not improve from 0.93405\n",
            "893/893 [==============================] - 17s 19ms/step - loss: 0.1514 - accuracy: 0.9468 - val_loss: 0.1925 - val_accuracy: 0.9318\n",
            "Epoch 20/25\n",
            "892/893 [============================>.] - ETA: 0s - loss: 0.1477 - accuracy: 0.9494\n",
            "Epoch 00020: val_accuracy did not improve from 0.93405\n",
            "893/893 [==============================] - 17s 19ms/step - loss: 0.1477 - accuracy: 0.9494 - val_loss: 0.1918 - val_accuracy: 0.9301\n",
            "Epoch 21/25\n",
            "891/893 [============================>.] - ETA: 0s - loss: 0.1474 - accuracy: 0.9487\n",
            "Epoch 00021: val_accuracy did not improve from 0.93405\n",
            "893/893 [==============================] - 17s 19ms/step - loss: 0.1475 - accuracy: 0.9486 - val_loss: 0.1903 - val_accuracy: 0.9321\n",
            "Epoch 22/25\n",
            "891/893 [============================>.] - ETA: 0s - loss: 0.1476 - accuracy: 0.9491\n",
            "Epoch 00022: val_accuracy did not improve from 0.93405\n",
            "893/893 [==============================] - 17s 19ms/step - loss: 0.1474 - accuracy: 0.9491 - val_loss: 0.1924 - val_accuracy: 0.9313\n",
            "Epoch 23/25\n",
            "890/893 [============================>.] - ETA: 0s - loss: 0.1481 - accuracy: 0.9492\n",
            "Epoch 00023: val_accuracy did not improve from 0.93405\n",
            "893/893 [==============================] - 18s 20ms/step - loss: 0.1479 - accuracy: 0.9493 - val_loss: 0.1923 - val_accuracy: 0.9298\n",
            "Epoch 24/25\n",
            "892/893 [============================>.] - ETA: 0s - loss: 0.1455 - accuracy: 0.9495\n",
            "Epoch 00024: val_accuracy did not improve from 0.93405\n",
            "893/893 [==============================] - 17s 20ms/step - loss: 0.1456 - accuracy: 0.9495 - val_loss: 0.1952 - val_accuracy: 0.9310\n",
            "Epoch 25/25\n",
            "891/893 [============================>.] - ETA: 0s - loss: 0.1457 - accuracy: 0.9495\n",
            "Epoch 00025: val_accuracy did not improve from 0.93405\n",
            "893/893 [==============================] - 17s 20ms/step - loss: 0.1457 - accuracy: 0.9495 - val_loss: 0.1898 - val_accuracy: 0.9313\n"
          ],
          "name": "stdout"
        }
      ]
    },
    {
      "cell_type": "code",
      "metadata": {
        "colab": {
          "base_uri": "https://localhost:8080/"
        },
        "id": "GFHn_tBD5X0_",
        "outputId": "bf7ef23f-e72f-4116-a619-483ffba2864d"
      },
      "source": [
        "# model summary\n",
        "print(model.summary())"
      ],
      "execution_count": 22,
      "outputs": [
        {
          "output_type": "stream",
          "text": [
            "Model: \"sequential_1\"\n",
            "_________________________________________________________________\n",
            "Layer (type)                 Output Shape              Param #   \n",
            "=================================================================\n",
            "embedding_1 (Embedding)      (None, 200, 40)           200000    \n",
            "_________________________________________________________________\n",
            "bidirectional_1 (Bidirection (None, 40)                9760      \n",
            "_________________________________________________________________\n",
            "dense_1 (Dense)              (None, 3)                 123       \n",
            "=================================================================\n",
            "Total params: 209,883\n",
            "Trainable params: 209,883\n",
            "Non-trainable params: 0\n",
            "_________________________________________________________________\n",
            "None\n"
          ],
          "name": "stdout"
        }
      ]
    },
    {
      "cell_type": "code",
      "metadata": {
        "id": "Y-V0cdjCyDAq"
      },
      "source": [
        "#Loading the best model obtained during training\n",
        "best_model = keras.models.load_model(\"best_model.hdf5\")"
      ],
      "execution_count": 20,
      "outputs": []
    },
    {
      "cell_type": "code",
      "metadata": {
        "colab": {
          "base_uri": "https://localhost:8080/"
        },
        "id": "WLWpgW7kyQXZ",
        "outputId": "0a8d991f-a753-4467-da57-25e65081fc1e"
      },
      "source": [
        "test_loss, test_acc = best_model.evaluate(X_test, y_test, verbose=2)\n",
        "print('Model accuracy: ',test_acc) "
      ],
      "execution_count": 21,
      "outputs": [
        {
          "output_type": "stream",
          "text": [
            "298/298 - 2s - loss: 0.1850 - accuracy: 0.9340\n",
            "Model accuracy:  0.9340474605560303\n"
          ],
          "name": "stdout"
        }
      ]
    },
    {
      "cell_type": "code",
      "metadata": {
        "id": "fNOG_cYa9t7y"
      },
      "source": [
        "predictions = best_model.predict(X_test)"
      ],
      "execution_count": 29,
      "outputs": []
    },
    {
      "cell_type": "code",
      "metadata": {
        "colab": {
          "base_uri": "https://localhost:8080/",
          "height": 880
        },
        "id": "A0DgUDDe9PIT",
        "outputId": "17e4e93d-e788-4449-a7c2-58a4b520e17c"
      },
      "source": [
        "# Plotting the confusion matrix\n",
        "from sklearn.metrics import confusion_matrix\n",
        "matrix = confusion_matrix(y_test.argmax(axis=1), np.around(predictions, decimals=0).argmax(axis=1))\n",
        "co_matrix = pd.DataFrame(matrix, index = [0,1],columns = [0,1])\n",
        "co_matrix = co_matrix.astype('float') / co_matrix.sum(axis=1)[:, np.newaxis]\n",
        "plt.figure(figsize = (15,15))\n",
        "sns.heatmap(co_matrix, annot=True, annot_kws={\"size\": 15})\n",
        "# We can see that the model produced a fairly good score"
      ],
      "execution_count": 30,
      "outputs": [
        {
          "output_type": "execute_result",
          "data": {
            "text/plain": [
              "<matplotlib.axes._subplots.AxesSubplot at 0x7f5fd972e8d0>"
            ]
          },
          "metadata": {
            "tags": []
          },
          "execution_count": 30
        },
        {
          "output_type": "display_data",
          "data": {
            "image/png": "[encoded data removed]",
            "text/plain": [
              "<Figure size 1080x1080 with 2 Axes>"
            ]
          },
          "metadata": {
            "tags": [],
            "needs_background": "light"
          }
        }
      ]
    },
    {
      "cell_type": "markdown",
      "metadata": {
        "id": "qinxOSwg7DSw"
      },
      "source": [
        "Running some sample and making predictions;"
      ]
    },
    {
      "cell_type": "code",
      "metadata": {
        "colab": {
          "base_uri": "https://localhost:8080/"
        },
        "id": "pw8D9f08CQu6",
        "outputId": "5814bf89-d76d-4d23-fc4c-7a64bc9e8c4e"
      },
      "source": [
        "text_sample = [\"as mercadorias foram entregues com atraso\"] # Meaning - the goods were delivered late\n",
        "data1 = np.array(text_sample)\n",
        "sequences = tokenizer.texts_to_sequences(data1)\n",
        "text1 = pad_sequences(sequences, maxlen=max_len)\n",
        "pred = (best_model.predict_classes(text1)>0.5).astype(\"int64\").item()\n",
        "print(pred) # classified correctly as negative"
      ],
      "execution_count": 26,
      "outputs": [
        {
          "output_type": "stream",
          "text": [
            "0\n"
          ],
          "name": "stdout"
        }
      ]
    },
    {
      "cell_type": "code",
      "metadata": {
        "colab": {
          "base_uri": "https://localhost:8080/"
        },
        "id": "HMVaFixS7shk",
        "outputId": "e47b00e0-f2d2-404b-ad8f-648e013e1cbe"
      },
      "source": [
        "text_sample = [\"agradeço a entrega rápida. obrigado\"] # Meaning - i appreciate the quick delivery.thanks\n",
        "data1 = np.array(text_sample)\n",
        "sequences = tokenizer.texts_to_sequences(data1)\n",
        "text1 = pad_sequences(sequences, maxlen=max_len)\n",
        "pred = (best_model.predict_classes(text1)>0.5).astype(\"int64\").item()\n",
        "print(pred) # classified correctly as positive"
      ],
      "execution_count": 27,
      "outputs": [
        {
          "output_type": "stream",
          "text": [
            "1\n"
          ],
          "name": "stdout"
        }
      ]
    }
  ]
}